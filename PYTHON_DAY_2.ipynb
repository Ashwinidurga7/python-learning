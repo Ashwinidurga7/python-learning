{
  "nbformat": 4,
  "nbformat_minor": 0,
  "metadata": {
    "colab": {
      "provenance": [],
      "authorship_tag": "ABX9TyOm27xmyI0B/L1R8NhWeXji",
      "include_colab_link": true
    },
    "kernelspec": {
      "name": "python3",
      "display_name": "Python 3"
    },
    "language_info": {
      "name": "python"
    }
  },
  "cells": [
    {
      "cell_type": "markdown",
      "metadata": {
        "id": "view-in-github",
        "colab_type": "text"
      },
      "source": [
        "<a href=\"https://colab.research.google.com/github/Ashwinidurga7/python-learning/blob/main/PYTHON_DAY_2.ipynb\" target=\"_parent\"><img src=\"https://colab.research.google.com/assets/colab-badge.svg\" alt=\"Open In Colab\"/></a>"
      ]
    },
    {
      "cell_type": "markdown",
      "source": [
        "#**EVEN OR ODD**"
      ],
      "metadata": {
        "id": "sD8aZgTiUQ90"
      }
    },
    {
      "cell_type": "code",
      "execution_count": 4,
      "metadata": {
        "colab": {
          "base_uri": "https://localhost:8080/"
        },
        "id": "ffI-J02sUKpj",
        "outputId": "a54799d1-f343-4957-9365-6a332c1931a7"
      },
      "outputs": [
        {
          "output_type": "stream",
          "name": "stdout",
          "text": [
            "Enter a number:7\n",
            "odd\n"
          ]
        }
      ],
      "source": [
        "n=int(input(\"Enter a number:\"))\n",
        "if n%2==0:\n",
        "  print(\"even\")\n",
        "else:\n",
        "    print(\"odd\")"
      ]
    },
    {
      "cell_type": "markdown",
      "source": [
        "# **Greatest Number**"
      ],
      "metadata": {
        "id": "v6buuZ73VQvD"
      }
    },
    {
      "cell_type": "code",
      "source": [
        "a=int(input(\"Enter a number:\"))\n",
        "b=int(input(\"Enter a number:\"))\n",
        "if a>b:\n",
        "  print(\"a is greater than b\")\n",
        "elif a<b:\n",
        "  print(\"b is greater than a\")\n",
        "else:\n",
        "  print(\"a and b is equal\")"
      ],
      "metadata": {
        "colab": {
          "base_uri": "https://localhost:8080/"
        },
        "id": "VCh7MWjjVbI3",
        "outputId": "270a08df-259a-4c60-e06d-faefc2a257b6"
      },
      "execution_count": 7,
      "outputs": [
        {
          "output_type": "stream",
          "name": "stdout",
          "text": [
            "Enter a number:3\n",
            "Enter a number:4\n",
            "b is greater than a\n"
          ]
        }
      ]
    }
  ]
}