{
  "nbformat": 4,
  "nbformat_minor": 0,
  "metadata": {
    "colab": {
      "provenance": []
    },
    "kernelspec": {
      "name": "python3",
      "display_name": "Python 3"
    },
    "language_info": {
      "name": "python"
    }
  },
  "cells": [
    {
      "cell_type": "markdown",
      "source": [],
      "metadata": {
        "id": "Z1SvSohTqYx-"
      }
    },
    {
      "cell_type": "markdown",
      "source": [
        "**HELLO WORLD**"
      ],
      "metadata": {
        "id": "26qKmD9IqbgK"
      }
    },
    {
      "cell_type": "code",
      "execution_count": null,
      "metadata": {
        "colab": {
          "base_uri": "https://localhost:8080/"
        },
        "id": "JsiC0PwtqC7c",
        "outputId": "87378536-0d39-45f1-f8af-3ce6056522c7"
      },
      "outputs": [
        {
          "output_type": "stream",
          "name": "stdout",
          "text": [
            "hello world\n"
          ]
        }
      ],
      "source": [
        "n=\"hello world\"\n",
        "print(n)"
      ]
    },
    {
      "cell_type": "markdown",
      "source": [
        "**USER INPUT**"
      ],
      "metadata": {
        "id": "jowcWSHEqmY6"
      }
    },
    {
      "cell_type": "code",
      "source": [
        "n=input(\"enter your name:\")\n",
        "print(\"hi\",n)"
      ],
      "metadata": {
        "colab": {
          "base_uri": "https://localhost:8080/"
        },
        "id": "0HsUlH0vq1tC",
        "outputId": "777f93f9-196e-40ec-fedd-62bab98bc76b"
      },
      "execution_count": null,
      "outputs": [
        {
          "output_type": "stream",
          "name": "stdout",
          "text": [
            "enter your name:nana\n",
            "hi nana\n"
          ]
        }
      ]
    },
    {
      "cell_type": "markdown",
      "source": [
        "**SIMPLE CALCULATOR**"
      ],
      "metadata": {
        "id": "pmm4A8J74SRi"
      }
    },
    {
      "cell_type": "code",
      "source": [
        "a=int(input(\"enter first number:\"))\n",
        "b=int(input(\"enter second number:\"))\n",
        "print(\"addition=\",a+b)\n",
        "print(\"subtraction=\",a-b)\n",
        "print(\"multiplication=\",a*b)"
      ],
      "metadata": {
        "colab": {
          "base_uri": "https://localhost:8080/"
        },
        "id": "2YkvyC_G4d0k",
        "outputId": "982c0e08-5b66-4ef2-80e7-ac179b73eec2"
      },
      "execution_count": null,
      "outputs": [
        {
          "output_type": "stream",
          "name": "stdout",
          "text": [
            "enter first number:3\n",
            "enter second number:6\n",
            "addition= 9\n",
            "subtraction= -3\n",
            "multiplication= 18\n"
          ]
        }
      ]
    }
  ]
}