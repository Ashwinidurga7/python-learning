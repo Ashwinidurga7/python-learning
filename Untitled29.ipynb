{
  "nbformat": 4,
  "nbformat_minor": 0,
  "metadata": {
    "colab": {
      "provenance": [],
      "authorship_tag": "ABX9TyOtISXTOww+rRhAtcaO++V2",
      "include_colab_link": true
    },
    "kernelspec": {
      "name": "python3",
      "display_name": "Python 3"
    },
    "language_info": {
      "name": "python"
    }
  },
  "cells": [
    {
      "cell_type": "markdown",
      "metadata": {
        "id": "view-in-github",
        "colab_type": "text"
      },
      "source": [
        "<a href=\"https://colab.research.google.com/github/Ashwinidurga7/python-learning/blob/main/Untitled29.ipynb\" target=\"_parent\"><img src=\"https://colab.research.google.com/assets/colab-badge.svg\" alt=\"Open In Colab\"/></a>"
      ]
    },
    {
      "cell_type": "code",
      "execution_count": 1,
      "metadata": {
        "id": "MIB2G3Yyt-00",
        "colab": {
          "base_uri": "https://localhost:8080/"
        },
        "outputId": "f50d7d96-dea8-41a5-bd60-e93d98f1d154"
      },
      "outputs": [
        {
          "name": "stdout",
          "output_type": "stream",
          "text": [
            "enter a number:34\n",
            "enter a name:ashwini\n",
            "enter a number:81.3\n"
          ]
        }
      ],
      "source": [
        "a=int(input(\"enter a number:\"))\n",
        "b=input(\"enter a name:\")\n",
        "c=float(input(\"enter a number:\"))"
      ]
    },
    {
      "cell_type": "code",
      "source": [
        "a=int(input(\"enter a number:\"))\n",
        "b=input(\"enter a name:\")\n",
        "c=float(input(\"enter a number:\"))"
      ],
      "metadata": {
        "colab": {
          "base_uri": "https://localhost:8080/"
        },
        "id": "6Cw9V_mDvhGo",
        "outputId": "6afffde3-3723-4dd9-e861-8659891bac63"
      },
      "execution_count": null,
      "outputs": [
        {
          "name": "stdout",
          "output_type": "stream",
          "text": [
            "enter a number:6\n",
            "enter a name:Ash\n",
            "enter a number:6.36\n"
          ]
        }
      ]
    },
    {
      "cell_type": "code",
      "source": [
        "a=input()\n",
        "print (type (a))"
      ],
      "metadata": {
        "colab": {
          "base_uri": "https://localhost:8080/"
        },
        "id": "hiMVp7-Iw4JP",
        "outputId": "b5c85271-e318-4230-a882-7a56ba2a64fc"
      },
      "execution_count": null,
      "outputs": [
        {
          "output_type": "stream",
          "name": "stdout",
          "text": [
            "6\n",
            "<class 'str'>\n"
          ]
        }
      ]
    },
    {
      "cell_type": "code",
      "source": [
        "a=int(input(\"enter a first number:\"))\n",
        "b=int(input(\"enter a second number:\"))\n",
        "print (a+b)\n",
        "print(a-b)\n",
        "print (a*b)\n",
        "print (a/b)"
      ],
      "metadata": {
        "colab": {
          "base_uri": "https://localhost:8080/"
        },
        "id": "NEF7SaX9yaPF",
        "outputId": "6b35857a-2a0d-4db5-b37e-beb2c2e27d14"
      },
      "execution_count": null,
      "outputs": [
        {
          "output_type": "stream",
          "name": "stdout",
          "text": [
            "enter a first number:2\n",
            "enter a second number:3\n",
            "5\n",
            "-1\n",
            "6\n",
            "0.6666666666666666\n"
          ]
        }
      ]
    }
  ]
}