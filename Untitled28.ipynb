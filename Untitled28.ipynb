{
  "cells": [
    {
      "cell_type": "markdown",
      "metadata": {
        "id": "view-in-github",
        "colab_type": "text"
      },
      "source": [
        "<a href=\"https://colab.research.google.com/github/Ashwinidurga7/python-learning/blob/main/Untitled28.ipynb\" target=\"_parent\"><img src=\"https://colab.research.google.com/assets/colab-badge.svg\" alt=\"Open In Colab\"/></a>"
      ]
    },
    {
      "cell_type": "code",
      "execution_count": null,
      "metadata": {
        "colab": {
          "base_uri": "https://localhost:8080/"
        },
        "id": "oGCu-RBZXxle",
        "outputId": "c49a166d-cc1a-47cf-c0c7-5aff636b9ff0"
      },
      "outputs": [
        {
          "name": "stdout",
          "output_type": "stream",
          "text": [
            "enter a namemadam\n",
            "a is a palindrome\n"
          ]
        }
      ],
      "source": [
        "a = input(\"enter a name\")\n",
        "if (a == a[::-1]):\n",
        "  print(\"a is a palindrome\")\n",
        "else:\n",
        "  print(\"a is not a palindrome\")"
      ]
    },
    {
      "cell_type": "code",
      "execution_count": null,
      "metadata": {
        "colab": {
          "base_uri": "https://localhost:8080/"
        },
        "id": "-XJRL6VLZrfo",
        "outputId": "49db03f9-953a-4788-9af8-f3f3c087c7e2"
      },
      "outputs": [
        {
          "name": "stdout",
          "output_type": "stream",
          "text": [
            "mammam\n",
            "mam is a palindrome\n"
          ]
        }
      ],
      "source": [
        "a=input(\"mam\")\n",
        "if (a==a[::-1]):\n",
        "  print(a,\"is a palindrome\")\n",
        "else:\n",
        "  print(a,\"is not a palindrome\")"
      ]
    },
    {
      "cell_type": "code",
      "execution_count": null,
      "metadata": {
        "colab": {
          "base_uri": "https://localhost:8080/"
        },
        "id": "mTzldDM_bTrp",
        "outputId": "a04c45ac-8955-4164-c1bc-d4b69c294bb4"
      },
      "outputs": [
        {
          "name": "stdout",
          "output_type": "stream",
          "text": [
            "enter a namemam\n",
            "mam is a palindrome\n"
          ]
        }
      ],
      "source": [
        "a=input(\"enter a name\")\n",
        "if (a==a[::-1]):\n",
        "  print(a,\"is a palindrome\")\n",
        "else:\n",
        "  print(a,\"is not a palindrome\")"
      ]
    },
    {
      "cell_type": "markdown",
      "source": [
        "ATM MACHINE"
      ],
      "metadata": {
        "id": "dqac_OwNLedA"
      }
    },
    {
      "cell_type": "code",
      "execution_count": null,
      "metadata": {
        "colab": {
          "base_uri": "https://localhost:8080/",
          "height": 529
        },
        "id": "A2osvDCZbg1a",
        "outputId": "e7ed73b3-9fc3-4cf0-ce74-fae89dc13b63"
      },
      "outputs": [
        {
          "metadata": {
            "tags": null
          },
          "name": "stdout",
          "output_type": "stream",
          "text": [
            "Welcome to SBI Please insert the card\n",
            "1.savings account  2.current accountt\n",
            "1.check balance\n",
            "2.with draw\n",
            "3.deposite\n",
            "New balance: 1500\n",
            "continue withdraw\n",
            "Remaining balance: 900\n",
            "your balance is 900\n",
            "wrong transaction id\n"
          ]
        },
        {
          "output_type": "error",
          "ename": "KeyboardInterrupt",
          "evalue": "Interrupted by user",
          "traceback": [
            "\u001b[0;31m---------------------------------------------------------------------------\u001b[0m",
            "\u001b[0;31mKeyboardInterrupt\u001b[0m                         Traceback (most recent call last)",
            "\u001b[0;32m/tmp/ipython-input-2064985110.py\u001b[0m in \u001b[0;36m<cell line: 0>\u001b[0;34m()\u001b[0m\n\u001b[1;32m     18\u001b[0m \u001b[0;34m\u001b[0m\u001b[0m\n\u001b[1;32m     19\u001b[0m \u001b[0;32mwhile\u001b[0m \u001b[0;32mTrue\u001b[0m\u001b[0;34m:\u001b[0m\u001b[0;34m\u001b[0m\u001b[0;34m\u001b[0m\u001b[0m\n\u001b[0;32m---> 20\u001b[0;31m   \u001b[0moption\u001b[0m\u001b[0;34m=\u001b[0m\u001b[0minput\u001b[0m\u001b[0;34m(\u001b[0m\u001b[0;34m\"enter any option: \"\u001b[0m\u001b[0;34m)\u001b[0m \u001b[0;31m# Added a colon for clarity\u001b[0m\u001b[0;34m\u001b[0m\u001b[0;34m\u001b[0m\u001b[0m\n\u001b[0m\u001b[1;32m     21\u001b[0m   \u001b[0;32mif\u001b[0m \u001b[0moption\u001b[0m\u001b[0;34m==\u001b[0m\u001b[0;34m\"1\"\u001b[0m\u001b[0;34m:\u001b[0m\u001b[0;34m\u001b[0m\u001b[0;34m\u001b[0m\u001b[0m\n\u001b[1;32m     22\u001b[0m     \u001b[0mprint\u001b[0m\u001b[0;34m(\u001b[0m\u001b[0;34m\"your balance is\"\u001b[0m\u001b[0;34m,\u001b[0m\u001b[0mbalance\u001b[0m\u001b[0;34m)\u001b[0m\u001b[0;34m\u001b[0m\u001b[0;34m\u001b[0m\u001b[0m\n",
            "\u001b[0;32m/usr/local/lib/python3.12/dist-packages/ipykernel/kernelbase.py\u001b[0m in \u001b[0;36mraw_input\u001b[0;34m(self, prompt)\u001b[0m\n\u001b[1;32m   1175\u001b[0m                 \u001b[0;34m\"raw_input was called, but this frontend does not support input requests.\"\u001b[0m\u001b[0;34m\u001b[0m\u001b[0;34m\u001b[0m\u001b[0m\n\u001b[1;32m   1176\u001b[0m             )\n\u001b[0;32m-> 1177\u001b[0;31m         return self._input_request(\n\u001b[0m\u001b[1;32m   1178\u001b[0m             \u001b[0mstr\u001b[0m\u001b[0;34m(\u001b[0m\u001b[0mprompt\u001b[0m\u001b[0;34m)\u001b[0m\u001b[0;34m,\u001b[0m\u001b[0;34m\u001b[0m\u001b[0;34m\u001b[0m\u001b[0m\n\u001b[1;32m   1179\u001b[0m             \u001b[0mself\u001b[0m\u001b[0;34m.\u001b[0m\u001b[0m_parent_ident\u001b[0m\u001b[0;34m[\u001b[0m\u001b[0;34m\"shell\"\u001b[0m\u001b[0;34m]\u001b[0m\u001b[0;34m,\u001b[0m\u001b[0;34m\u001b[0m\u001b[0;34m\u001b[0m\u001b[0m\n",
            "\u001b[0;32m/usr/local/lib/python3.12/dist-packages/ipykernel/kernelbase.py\u001b[0m in \u001b[0;36m_input_request\u001b[0;34m(self, prompt, ident, parent, password)\u001b[0m\n\u001b[1;32m   1217\u001b[0m             \u001b[0;32mexcept\u001b[0m \u001b[0mKeyboardInterrupt\u001b[0m\u001b[0;34m:\u001b[0m\u001b[0;34m\u001b[0m\u001b[0;34m\u001b[0m\u001b[0m\n\u001b[1;32m   1218\u001b[0m                 \u001b[0;31m# re-raise KeyboardInterrupt, to truncate traceback\u001b[0m\u001b[0;34m\u001b[0m\u001b[0;34m\u001b[0m\u001b[0m\n\u001b[0;32m-> 1219\u001b[0;31m                 \u001b[0;32mraise\u001b[0m \u001b[0mKeyboardInterrupt\u001b[0m\u001b[0;34m(\u001b[0m\u001b[0;34m\"Interrupted by user\"\u001b[0m\u001b[0;34m)\u001b[0m \u001b[0;32mfrom\u001b[0m \u001b[0;32mNone\u001b[0m\u001b[0;34m\u001b[0m\u001b[0;34m\u001b[0m\u001b[0m\n\u001b[0m\u001b[1;32m   1220\u001b[0m             \u001b[0;32mexcept\u001b[0m \u001b[0mException\u001b[0m\u001b[0;34m:\u001b[0m\u001b[0;34m\u001b[0m\u001b[0;34m\u001b[0m\u001b[0m\n\u001b[1;32m   1221\u001b[0m                 \u001b[0mself\u001b[0m\u001b[0;34m.\u001b[0m\u001b[0mlog\u001b[0m\u001b[0;34m.\u001b[0m\u001b[0mwarning\u001b[0m\u001b[0;34m(\u001b[0m\u001b[0;34m\"Invalid Message:\"\u001b[0m\u001b[0;34m,\u001b[0m \u001b[0mexc_info\u001b[0m\u001b[0;34m=\u001b[0m\u001b[0;32mTrue\u001b[0m\u001b[0;34m)\u001b[0m\u001b[0;34m\u001b[0m\u001b[0;34m\u001b[0m\u001b[0m\n",
            "\u001b[0;31mKeyboardInterrupt\u001b[0m: Interrupted by user"
          ]
        }
      ],
      "source": [
        "a=(\"Welcome to SBI\")\n",
        "b=(\"Please insert the card\")\n",
        "print(a,b)\n",
        "if(b==b[::1]):\n",
        "  print(\"1.savings account \", \"2.current accountt\")\n",
        "else:\n",
        "    print(\"make sure you entered a card\")\n",
        "\n",
        "choice=input(\"enter any one option\")\n",
        "if choice==\"1\" or choice==\"2\":\n",
        "  print(\"1.check balance\")\n",
        "  print(\"2.with draw\")\n",
        "  print(\"3.deposite\")\n",
        "\n",
        "balance=1000\n",
        "pin=\"1234\"\n",
        "transaction_id=123456789\n",
        "\n",
        "while True:\n",
        "  option=input(\"enter any option: \")\n",
        "  if option==\"1\":\n",
        "    print(\"your balance is\",balance)\n",
        "  elif option==\"2\":\n",
        "    user=input(\"please enter the pin: \")\n",
        "    if(pin==user):\n",
        "      c=int(input(\"Enter amount to withdraw: \"))\n",
        "      if c <= balance:\n",
        "        print(\"continue withdraw\")\n",
        "        balance -= c\n",
        "        print(\"Remaining balance:\", balance)\n",
        "      else:\n",
        "        print(\"unsufficient balance\")\n",
        "    else:\n",
        "      print(\"wrong pin\")\n",
        "  elif option==\"3\":\n",
        "    user1=input(f\"please enter the transaction id ({transaction_id}): \")\n",
        "    if(str(transaction_id)==user1):\n",
        "      d=int(input(\"enter the amount to deposite:\"))\n",
        "      balance += d\n",
        "      print(\"New balance:\", balance)\n",
        "    else:\n",
        "      print(\"wrong transaction id\")\n",
        "  else:\n",
        "    print(\"thank you\")\n",
        "    break"
      ]
    },
    {
      "cell_type": "code",
      "execution_count": null,
      "metadata": {
        "id": "ILaYWKVni6x1",
        "colab": {
          "base_uri": "https://localhost:8080/"
        },
        "outputId": "a1a5c3af-1dc4-49a3-de20-ba5af8880446"
      },
      "outputs": [
        {
          "output_type": "stream",
          "name": "stdout",
          "text": [
            "enter a first number:2\n",
            "ente a second number:3\n",
            "1.addition 2.subtraction 3.multiplication 4.division\n",
            "enter any one option2\n",
            "subtraction -1\n"
          ]
        }
      ],
      "source": [
        "a=int(input(\"enter a first number:\"))\n",
        "b=int(input(\"ente a second number:\"))\n",
        "print(\"1.addition\",\"2.subtraction\",\"3.multiplication\",\"4.division\")\n",
        "choice=input(\"enter any one option\")\n",
        "if choice==\"1\" or choice==\"2\" or choice==\"3\" or choice==\"4\":\n",
        "  if choice==\"1\":\n",
        "    print(\"addition\",a+b)\n",
        "  elif choice==\"2\":\n",
        "    print(\"subtraction\",a-b)\n",
        "  elif choice==\"3\":\n",
        "    print(\"multiplication\",a*b)\n",
        "  elif choice==\"4\":\n",
        "    print(\"division\",a/b)\n",
        "else:\n",
        "  print(\"invalid option\")"
      ]
    },
    {
      "cell_type": "code",
      "source": [
        "a = int(input(\"enter a number:\"))\n",
        "if (a % 2 == 0):\n",
        "  print(\"even\")\n",
        "else:\n",
        "  print(\"odd\")"
      ],
      "metadata": {
        "colab": {
          "base_uri": "https://localhost:8080/"
        },
        "id": "lmHJByp_H5jz",
        "outputId": "62034070-a134-4fee-ff85-89bfe58a656d"
      },
      "execution_count": null,
      "outputs": [
        {
          "output_type": "stream",
          "name": "stdout",
          "text": [
            "enter a number:3\n",
            "odd\n"
          ]
        }
      ]
    },
    {
      "cell_type": "code",
      "source": [
        "a = int(input(\"enter a first number:\"))\n",
        "b = int(input(\"enter a second number:\"))\n",
        "\n",
        "print(\"Comparing the two numbers:\")+\n",
        "\n",
        "if a > b:\n",
        "  print(\"a is greater than b\")\n",
        "elif b > a:\n",
        "  print(\"b is greater than a\")\n",
        "else:\n",
        "  print(\"a is equal to b\")"
      ],
      "metadata": {
        "colab": {
          "base_uri": "https://localhost:8080/",
          "height": 106
        },
        "id": "2i7IRVpRL88W",
        "outputId": "fc4c4390-8e1f-4bca-9bc5-4114ca7eba0a"
      },
      "execution_count": null,
      "outputs": [
        {
          "output_type": "error",
          "ename": "SyntaxError",
          "evalue": "invalid syntax (ipython-input-2978258082.py, line 9)",
          "traceback": [
            "\u001b[0;36m  File \u001b[0;32m\"/tmp/ipython-input-2978258082.py\"\u001b[0;36m, line \u001b[0;32m9\u001b[0m\n\u001b[0;31m    elif(a>b or a<b):\u001b[0m\n\u001b[0m    ^\u001b[0m\n\u001b[0;31mSyntaxError\u001b[0m\u001b[0;31m:\u001b[0m invalid syntax\n"
          ]
        }
      ]
    },
    {
      "cell_type": "code",
      "source": [
        "i=0\n",
        "for i in range(5):\n",
        "  print(i)"
      ],
      "metadata": {
        "colab": {
          "base_uri": "https://localhost:8080/"
        },
        "id": "aOtIJISDRO7l",
        "outputId": "7a354810-c643-488c-a87f-c0c7088e4279"
      },
      "execution_count": null,
      "outputs": [
        {
          "output_type": "stream",
          "name": "stdout",
          "text": [
            "0\n",
            "1\n",
            "2\n",
            "3\n",
            "4\n"
          ]
        }
      ]
    },
    {
      "cell_type": "code",
      "source": [
        "a = list(map(int, input(\"Enter numbers separated by spaces: \").split()))\n",
        "for number in a:\n",
        "  print(number)"
      ],
      "metadata": {
        "colab": {
          "base_uri": "https://localhost:8080/"
        },
        "id": "FtI6Tm4uRg2v",
        "outputId": "313dec4b-bc55-4b05-817c-7d50b459fb3c"
      },
      "execution_count": null,
      "outputs": [
        {
          "output_type": "stream",
          "name": "stdout",
          "text": [
            "Enter numbers separated by spaces: 1 2 3\n",
            "1\n",
            "2\n",
            "3\n"
          ]
        }
      ]
    },
    {
      "cell_type": "code",
      "source": [
        "a=list(map(int,input().split()))\n",
        "for i in a:\n",
        "  print(i)"
      ],
      "metadata": {
        "colab": {
          "base_uri": "https://localhost:8080/"
        },
        "id": "jUpSkCPoTDJy",
        "outputId": "80612afe-1c58-4ca5-e3b1-f4fb01714ced"
      },
      "execution_count": null,
      "outputs": [
        {
          "output_type": "stream",
          "name": "stdout",
          "text": [
            "2 3 4\n",
            "2\n",
            "3\n",
            "4\n"
          ]
        }
      ]
    },
    {
      "cell_type": "code",
      "source": [
        "for i in range(0,11,2):\n",
        "  print(i)"
      ],
      "metadata": {
        "colab": {
          "base_uri": "https://localhost:8080/"
        },
        "id": "or6RuLwqTuh7",
        "outputId": "cef61b9c-5217-4555-cd20-1d60a0081891"
      },
      "execution_count": null,
      "outputs": [
        {
          "output_type": "stream",
          "name": "stdout",
          "text": [
            "0\n",
            "2\n",
            "4\n",
            "6\n",
            "8\n",
            "10\n"
          ]
        }
      ]
    },
    {
      "cell_type": "code",
      "source": [
        "i = 5\n",
        "while (i < 10):\n",
        "  print(i)\n",
        "  i += 1"
      ],
      "metadata": {
        "colab": {
          "base_uri": "https://localhost:8080/"
        },
        "id": "60NaV7oUUaqY",
        "outputId": "965f79ab-5116-4598-98ef-9cbbd2b3b250"
      },
      "execution_count": null,
      "outputs": [
        {
          "output_type": "stream",
          "name": "stdout",
          "text": [
            "5\n",
            "6\n",
            "7\n",
            "8\n",
            "9\n"
          ]
        }
      ]
    },
    {
      "cell_type": "code",
      "source": [
        "i = 5\n",
        "while (i < 10):\n",
        "  print(i)\n",
        "  i += 1\n",
        "  if(i==7):\n",
        "    break;"
      ],
      "metadata": {
        "colab": {
          "base_uri": "https://localhost:8080/"
        },
        "id": "gtieP2uDV79m",
        "outputId": "2b00528b-71f8-4e65-d439-b891d2515bcd"
      },
      "execution_count": null,
      "outputs": [
        {
          "output_type": "stream",
          "name": "stdout",
          "text": [
            "5\n",
            "6\n"
          ]
        }
      ]
    },
    {
      "cell_type": "code",
      "source": [
        "i = 5\n",
        "while (i < 10):\n",
        "  print(i)\n",
        "  i += 1\n",
        "  if(i==7):\n",
        "    continue\n",
        "    print(i)"
      ],
      "metadata": {
        "colab": {
          "base_uri": "https://localhost:8080/"
        },
        "id": "RHMyInGkWJRP",
        "outputId": "fea1cc42-da1e-4c70-d30e-6e6901fc3d4c"
      },
      "execution_count": null,
      "outputs": [
        {
          "output_type": "stream",
          "name": "stdout",
          "text": [
            "5\n",
            "6\n",
            "7\n",
            "8\n",
            "9\n"
          ]
        }
      ]
    }
  ],
  "metadata": {
    "colab": {
      "provenance": [],
      "authorship_tag": "ABX9TyOvFeiPGiQRMiGaPjPY9eN0",
      "include_colab_link": true
    },
    "kernelspec": {
      "display_name": "Python 3",
      "name": "python3"
    },
    "language_info": {
      "name": "python"
    }
  },
  "nbformat": 4,
  "nbformat_minor": 0
}